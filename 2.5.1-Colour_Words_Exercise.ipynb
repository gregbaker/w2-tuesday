{
 "cells": [
  {
   "cell_type": "code",
   "execution_count": null,
   "metadata": {},
   "outputs": [],
   "source": [
    "import numpy, pandas\n",
    "from sklearn.naive_bayes import GaussianNB\n",
    "from sklearn.model_selection import train_test_split\n",
    "from sklearn.preprocessing import FunctionTransformer\n",
    "from sklearn.pipeline import make_pipeline\n",
    "from sklearn.metrics import classification_report\n",
    "from skimage.color import rgb2lab, rgb2hsv\n",
    "from helpers.colour import plot_predictions\n",
    "import matplotlib.pyplot as plot\n",
    "%matplotlib inline"
   ]
  },
  {
   "cell_type": "markdown",
   "metadata": {},
   "source": [
    "# Exercise: colour words\n",
    "\n",
    "In this exercise, we will try to convert RGB colours (which you might have seen in graphics programs or CSS) to colour words (like \"red\").\n",
    "\n",
    "The data we have was collected from SFU students by having them [select a word for a randomly-chosen colour](http://cmpt732.csil.sfu.ca/colour/). The colours in the data file have each of the red/green/blue components on a scale 0&ndash;1, instead of 0&ndash;255 which you might have seen before. (The colour tools we're using expect 0&ndash;1, so this will make them happy.)\n",
    "\n",
    "The labels we have are the [English basic colour terms](https://en.wikipedia.org/wiki/Color_term#Basic_color_terms): \"black\", \"white\", \"red\", \"green\", \"yellow\", \"blue\", \"brown\", \"orange\", \"pink\", \"purple\", and \"grey\".\n",
    "\n",
    "We hope that we can predict that (1,0,0) is called \"red\", (0,1,0) is called \"green\", and many other values that are less obvious.\n",
    "\n",
    "Here is some data.\n",
    "\n",
    "TODO: \n",
    "* Create feature and label arrays `X` and `y`.\n",
    "* Split into training and testing data."
   ]
  },
  {
   "cell_type": "code",
   "execution_count": null,
   "metadata": {},
   "outputs": [],
   "source": [
    "data = pandas.read_csv('data/colour-data.csv')\n",
    "data"
   ]
  },
  {
   "cell_type": "code",
   "execution_count": null,
   "metadata": {},
   "outputs": [],
   "source": []
  },
  {
   "cell_type": "code",
   "execution_count": null,
   "metadata": {},
   "outputs": [],
   "source": []
  },
  {
   "cell_type": "markdown",
   "metadata": {},
   "source": [
    "## Attempt 1: Just Use RGB Colours and Naive Bayes\n",
    "\n",
    "To start with, don't do any work on the features: just use a Gaussian naive Bayes classifier as we have before on the data to see what you get.\n",
    "\n",
    "TODO:\n",
    "* Create a model. Train it on the training data.\n",
    "* Calculate an accuracy score on the testing data.\n",
    "* We have provided a helper to plot the predictions being made. Try: `plot_predictions(model)`"
   ]
  },
  {
   "cell_type": "code",
   "execution_count": null,
   "metadata": {},
   "outputs": [],
   "source": []
  },
  {
   "cell_type": "code",
   "execution_count": null,
   "metadata": {},
   "outputs": [],
   "source": []
  },
  {
   "cell_type": "code",
   "execution_count": null,
   "metadata": {},
   "outputs": [],
   "source": []
  },
  {
   "cell_type": "markdown",
   "metadata": {},
   "source": [
    "## Attempt #2: Convert to HSV Colours in a Pipeline\n",
    "\n",
    "You probably didn't get great results above. One of the problems: the RGB colour space isn't perfectly arranged to represent the things we call colours. It is designed for computer screens, not human eyes.\n",
    "\n",
    "The [HSV colour](https://en.wikipedia.org/wiki/HSL_and_HSV) represents colours using values for \"hue\", \"saturation\", and \"value\". The value for \"hue\" is probably closely related to the thing called \"colour\" that we're trying to predict. Maybe if we **transform** to that colour space before going to the classifier, it will have more meaningful values to work with.\n",
    "\n",
    "The function `transform_rgb2hsv` provided below will convert an array of RGB colour values to an array of HSV colour values. It's something you can use with a `FunctionTransformer` in a pipeline.\n",
    "\n",
    "TODO:\n",
    "* Create a pipeline model containing a `FunctionTransformer` and a `GaussianNB`.\n",
    "* Train, test, and plot as above."
   ]
  },
  {
   "cell_type": "code",
   "execution_count": null,
   "metadata": {},
   "outputs": [],
   "source": [
    "def transform_rgb2hsv(Xrgb):\n",
    "    return rgb2hsv(Xrgb.reshape(1, -1, 3)).reshape(-1, 3)"
   ]
  },
  {
   "cell_type": "code",
   "execution_count": null,
   "metadata": {},
   "outputs": [],
   "source": []
  },
  {
   "cell_type": "code",
   "execution_count": null,
   "metadata": {},
   "outputs": [],
   "source": []
  }
 ],
 "metadata": {
  "kernelspec": {
   "display_name": "Python 2",
   "language": "python",
   "name": "python2"
  },
  "language_info": {
   "codemirror_mode": {
    "name": "ipython",
    "version": 2
   },
   "file_extension": ".py",
   "mimetype": "text/x-python",
   "name": "python",
   "nbconvert_exporter": "python",
   "pygments_lexer": "ipython2",
   "version": "2.7.15rc1"
  }
 },
 "nbformat": 4,
 "nbformat_minor": 2
}
