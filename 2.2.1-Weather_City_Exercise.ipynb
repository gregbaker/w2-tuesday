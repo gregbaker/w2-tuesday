{
 "cells": [
  {
   "cell_type": "code",
   "execution_count": null,
   "metadata": {},
   "outputs": [],
   "source": [
    "import numpy, pandas\n",
    "import matplotlib.pyplot as plot\n",
    "from sklearn.naive_bayes import GaussianNB\n",
    "from sklearn.model_selection import train_test_split"
   ]
  },
  {
   "cell_type": "markdown",
   "metadata": {},
   "source": [
    "# Exercise: Predict the weather, in reverse.\n",
    "\n",
    "For this question, we will look at [weather data](https://www.ncdc.noaa.gov/data-access/land-based-station-data/land-based-datasets/global-historical-climatology-network-ghcn) data from 26 North American airports where we have several things that have been measured:\n",
    "* daily minimum temperature (in 0.1°C)\n",
    "* daily maximum temperature (in 0.1°C)\n",
    "* amount of precipitation (in 0.1mm)\n",
    "* amount of snowfall (in mm)\n",
    "* snow depth (in mm)\n",
    "\n",
    "These are observed daily, but the data we'll work with today has these values averaged for days in each month: there is a minimum temperature for January, February, March, ..., so there are 60 features in total.\n",
    "\n",
    "### The Goal\n",
    "\n",
    "We want to use the weather data, and see if we can **guess the city**, based on what the weather was like."
   ]
  },
  {
   "cell_type": "markdown",
   "metadata": {},
   "source": [
    "# Get the Data\n",
    "The data is in a file provided here:"
   ]
  },
  {
   "cell_type": "code",
   "execution_count": null,
   "metadata": {},
   "outputs": [],
   "source": [
    "weather_data = pandas.read_csv('data/weather-data-labeled.csv', encoding='utf-8')\n",
    "weather_data"
   ]
  },
  {
   "cell_type": "markdown",
   "metadata": {},
   "source": [
    "Here are the cities we have in the data set:"
   ]
  },
  {
   "cell_type": "code",
   "execution_count": null,
   "metadata": {},
   "outputs": [],
   "source": [
    "weather_data['city'].unique()"
   ]
  },
  {
   "cell_type": "markdown",
   "metadata": {},
   "source": [
    "And here are the columns we have to work with for each observation:"
   ]
  },
  {
   "cell_type": "code",
   "execution_count": null,
   "metadata": {},
   "outputs": [],
   "source": [
    "weather_data.columns"
   ]
  },
  {
   "cell_type": "markdown",
   "metadata": {},
   "source": [
    "We want to separate the observations (`X`) and labels (`y`) so we can start working with the Scikit-Learn tools..."
   ]
  },
  {
   "cell_type": "code",
   "execution_count": null,
   "metadata": {},
   "outputs": [],
   "source": [
    "columns = list(weather_data.columns)\n",
    "columns.remove('year')\n",
    "columns.remove('city')\n",
    "X = weather_data[columns]\n",
    "# TODO: get the labels into y\n",
    "y = "
   ]
  },
  {
   "cell_type": "code",
   "execution_count": null,
   "metadata": {},
   "outputs": [],
   "source": [
    "# TODO: split the data randomly into training and testing sets\n",
    "X_train, X_test, y_train, y_test = "
   ]
  },
  {
   "cell_type": "markdown",
   "metadata": {},
   "source": [
    "# Create and Train a Model"
   ]
  },
  {
   "cell_type": "code",
   "execution_count": null,
   "metadata": {},
   "outputs": [],
   "source": [
    "# TODO: create a naive bayes model\n",
    "model = "
   ]
  },
  {
   "cell_type": "code",
   "execution_count": null,
   "metadata": {},
   "outputs": [],
   "source": [
    "# TODO: train the model on the labeled training data\n"
   ]
  },
  {
   "cell_type": "markdown",
   "metadata": {},
   "source": [
    "# Check the Accuracy\n",
    "\n",
    "Since our inputs have 60 features, it's not obvious how we'd plot them, but we can check the model to see how many of the testing labels it gets correct."
   ]
  },
  {
   "cell_type": "code",
   "execution_count": null,
   "metadata": {},
   "outputs": [],
   "source": [
    "# TODO: calculate and accuracy score on the test data\n"
   ]
  },
  {
   "cell_type": "markdown",
   "metadata": {},
   "source": [
    "# Make Some Predictions\n",
    "\n",
    "Let's use our model to make some predictions where we genuinely don't know the \"correct\" result..."
   ]
  },
  {
   "cell_type": "code",
   "execution_count": null,
   "metadata": {},
   "outputs": [],
   "source": [
    "unlabeled_data = pandas.read_csv('data/weather-data-unlabeled.csv', encoding='utf-8')\n",
    "unlabeled_data"
   ]
  },
  {
   "cell_type": "code",
   "execution_count": null,
   "metadata": {},
   "outputs": [],
   "source": [
    "X_unlabeled = unlabeled_data[columns]"
   ]
  },
  {
   "cell_type": "code",
   "execution_count": null,
   "metadata": {},
   "outputs": [],
   "source": [
    "# TODO: make predictions for those 12 unlabeled data points."
   ]
  },
  {
   "cell_type": "markdown",
   "metadata": {},
   "source": [
    "# Where did we go wrong?\n",
    "\n",
    "We know from the score above that most of our predictions are correct, but some weren't.\n",
    "\n",
    "Let's have a look at where we predicted incorrectly on the testing data..."
   ]
  },
  {
   "cell_type": "code",
   "execution_count": null,
   "metadata": {},
   "outputs": [],
   "source": [
    "predictions = pandas.DataFrame({'label': y_test, 'prediction': model.predict(X_test)})\n",
    "incorrect_predictions = predictions[predictions['label'] != predictions['prediction']]\n",
    "incorrect_predictions"
   ]
  },
  {
   "cell_type": "markdown",
   "metadata": {},
   "source": [
    "Based on that, how do you think the model is doing? Is it making reasonable predictions?"
   ]
  }
 ],
 "metadata": {
  "kernelspec": {
   "display_name": "Python 2",
   "language": "python",
   "name": "python2"
  },
  "language_info": {
   "codemirror_mode": {
    "name": "ipython",
    "version": 2
   },
   "file_extension": ".py",
   "mimetype": "text/x-python",
   "name": "python",
   "nbconvert_exporter": "python",
   "pygments_lexer": "ipython2",
   "version": "2.7.15rc1"
  }
 },
 "nbformat": 4,
 "nbformat_minor": 2
}
